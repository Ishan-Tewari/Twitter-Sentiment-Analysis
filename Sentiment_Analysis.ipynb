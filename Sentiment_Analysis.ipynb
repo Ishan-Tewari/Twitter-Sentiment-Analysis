{
  "nbformat": 4,
  "nbformat_minor": 0,
  "metadata": {
    "colab": {
      "name": "Sentiment Analysis.ipynb",
      "provenance": [],
      "collapsed_sections": []
    },
    "kernelspec": {
      "name": "python3",
      "display_name": "Python 3"
    },
    "accelerator": "GPU"
  },
  "cells": [
    {
      "cell_type": "markdown",
      "metadata": {
        "id": "E34erqWF94S5"
      },
      "source": [
        "# Sentiment Analysis on Twitter Data "
      ]
    },
    {
      "cell_type": "markdown",
      "metadata": {
        "id": "yyxzl16F-F6A"
      },
      "source": [
        "## Data Pre-Processing"
      ]
    },
    {
      "cell_type": "markdown",
      "metadata": {
        "id": "YXsOzNKwA7S-"
      },
      "source": [
        "**Importing necessary libraries and reading the data**"
      ]
    },
    {
      "cell_type": "code",
      "metadata": {
        "id": "_4bj0YpEacYa"
      },
      "source": [
        "import pandas as pd\n",
        "import matplotlib.pyplot as plt"
      ],
      "execution_count": 1,
      "outputs": []
    },
    {
      "cell_type": "code",
      "metadata": {
        "colab": {
          "base_uri": "https://localhost:8080/"
        },
        "id": "sdPCyvTTDr_y",
        "outputId": "30050c6f-7594-4569-879e-db50280faf94"
      },
      "source": [
        "from google.colab import drive\n",
        "drive.mount('/content/drive')"
      ],
      "execution_count": 3,
      "outputs": [
        {
          "output_type": "stream",
          "text": [
            "Mounted at /content/drive\n"
          ],
          "name": "stdout"
        }
      ]
    },
    {
      "cell_type": "code",
      "metadata": {
        "id": "u6ps4tZVrtNv"
      },
      "source": [
        "dataSet = \"/content/drive/My Drive/Sentiment/Copy of trainingDataIRMFinal.csv\"\n",
        "df = pd.read_csv(dataSet,engine='python', error_bad_lines=False)"
      ],
      "execution_count": 4,
      "outputs": []
    },
    {
      "cell_type": "markdown",
      "metadata": {
        "id": "6MbHL90D-b_i"
      },
      "source": [
        "**Taking out sample data of 16000 entries to train our model**"
      ]
    },
    {
      "cell_type": "code",
      "metadata": {
        "id": "qF9iUY31cDDX"
      },
      "source": [
        "df = df.iloc[:,[0,5]]\n",
        "df.columns = [\"Target\",\"Tweet\"] \n",
        "df = df.sample(frac=0.01) #16000"
      ],
      "execution_count": 5,
      "outputs": []
    },
    {
      "cell_type": "code",
      "metadata": {
        "id": "1XnedofbwPXa",
        "colab": {
          "base_uri": "https://localhost:8080/",
          "height": 204
        },
        "outputId": "a0ac53c8-7968-444a-e55b-9abb1c80abc7"
      },
      "source": [
        "df.head()"
      ],
      "execution_count": 6,
      "outputs": [
        {
          "output_type": "execute_result",
          "data": {
            "text/html": [
              "<div>\n",
              "<style scoped>\n",
              "    .dataframe tbody tr th:only-of-type {\n",
              "        vertical-align: middle;\n",
              "    }\n",
              "\n",
              "    .dataframe tbody tr th {\n",
              "        vertical-align: top;\n",
              "    }\n",
              "\n",
              "    .dataframe thead th {\n",
              "        text-align: right;\n",
              "    }\n",
              "</style>\n",
              "<table border=\"1\" class=\"dataframe\">\n",
              "  <thead>\n",
              "    <tr style=\"text-align: right;\">\n",
              "      <th></th>\n",
              "      <th>Target</th>\n",
              "      <th>Tweet</th>\n",
              "    </tr>\n",
              "  </thead>\n",
              "  <tbody>\n",
              "    <tr>\n",
              "      <th>1098030</th>\n",
              "      <td>4</td>\n",
              "      <td>Hi  it's sunny!</td>\n",
              "    </tr>\n",
              "    <tr>\n",
              "      <th>608602</th>\n",
              "      <td>0</td>\n",
              "      <td>I feel bad for the mail woman walking around i...</td>\n",
              "    </tr>\n",
              "    <tr>\n",
              "      <th>1576064</th>\n",
              "      <td>4</td>\n",
              "      <td>@BuzzBuzzLaura hmmm i dunno really haha i gues...</td>\n",
              "    </tr>\n",
              "    <tr>\n",
              "      <th>1512370</th>\n",
              "      <td>4</td>\n",
              "      <td>@chrishantha agreed with @chamila  don't forge...</td>\n",
              "    </tr>\n",
              "    <tr>\n",
              "      <th>754979</th>\n",
              "      <td>0</td>\n",
              "      <td>I feel like garbage. I hate being sick. I also...</td>\n",
              "    </tr>\n",
              "  </tbody>\n",
              "</table>\n",
              "</div>"
            ],
            "text/plain": [
              "         Target                                              Tweet\n",
              "1098030       4                                   Hi  it's sunny! \n",
              "608602        0  I feel bad for the mail woman walking around i...\n",
              "1576064       4  @BuzzBuzzLaura hmmm i dunno really haha i gues...\n",
              "1512370       4  @chrishantha agreed with @chamila  don't forge...\n",
              "754979        0  I feel like garbage. I hate being sick. I also..."
            ]
          },
          "metadata": {
            "tags": []
          },
          "execution_count": 6
        }
      ]
    },
    {
      "cell_type": "markdown",
      "metadata": {
        "id": "ClVb36ys-sPV"
      },
      "source": [
        "**Data contains almost equal amounts of negative as well as positive classes**"
      ]
    },
    {
      "cell_type": "code",
      "metadata": {
        "id": "KvZ_ROSxvev1",
        "colab": {
          "base_uri": "https://localhost:8080/"
        },
        "outputId": "1dc5ca49-5058-4121-8e1a-9586d605965a"
      },
      "source": [
        "df.Target.value_counts()"
      ],
      "execution_count": 7,
      "outputs": [
        {
          "output_type": "execute_result",
          "data": {
            "text/plain": [
              "0    8020\n",
              "4    7980\n",
              "Name: Target, dtype: int64"
            ]
          },
          "metadata": {
            "tags": []
          },
          "execution_count": 7
        }
      ]
    },
    {
      "cell_type": "code",
      "metadata": {
        "id": "Ot0bv2txmlW9",
        "colab": {
          "base_uri": "https://localhost:8080/"
        },
        "outputId": "2af453d0-252d-4aba-b721-5afa3622a408"
      },
      "source": [
        "import nltk\n",
        "nltk.download('stopwords')\n",
        "nltk.download('punkt')\n",
        "nltk.download('wordnet')"
      ],
      "execution_count": 8,
      "outputs": [
        {
          "output_type": "stream",
          "text": [
            "[nltk_data] Downloading package stopwords to /root/nltk_data...\n",
            "[nltk_data]   Unzipping corpora/stopwords.zip.\n",
            "[nltk_data] Downloading package punkt to /root/nltk_data...\n",
            "[nltk_data]   Unzipping tokenizers/punkt.zip.\n",
            "[nltk_data] Downloading package wordnet to /root/nltk_data...\n",
            "[nltk_data]   Unzipping corpora/wordnet.zip.\n"
          ],
          "name": "stdout"
        },
        {
          "output_type": "execute_result",
          "data": {
            "text/plain": [
              "True"
            ]
          },
          "metadata": {
            "tags": []
          },
          "execution_count": 8
        }
      ]
    },
    {
      "cell_type": "markdown",
      "metadata": {
        "id": "cJUCQqN7_OUG"
      },
      "source": [
        "**Creating a function to pre-process the data**"
      ]
    },
    {
      "cell_type": "code",
      "metadata": {
        "id": "z140HU8XmWBA"
      },
      "source": [
        "import re\n",
        "from nltk.stem import WordNetLemmatizer\n",
        "from nltk.corpus import stopwords\n",
        "stop_words = set(stopwords.words('english'))\n",
        "wordnet_lemmatizer = WordNetLemmatizer() \n",
        "\n",
        "def normalizer(tweet):\n",
        "    only_letters = re.sub(\"[^a-zA-Z]\", \" \",tweet) \n",
        "    tokens = nltk.word_tokenize(only_letters)[2:]   # Tokenize data by words\n",
        "    lower_case = [l.lower() for l in tokens]    # Converting data into lowercase\n",
        "    filtered_result = list(filter(lambda l: l not in stop_words, lower_case))   # Removing stopwords\n",
        "    lemmas = [wordnet_lemmatizer.lemmatize(t) for t in filtered_result]   # Lemmatizing the data  \n",
        "    return lemmas"
      ],
      "execution_count": 9,
      "outputs": []
    },
    {
      "cell_type": "code",
      "metadata": {
        "id": "APJcyaCymueP",
        "colab": {
          "base_uri": "https://localhost:8080/"
        },
        "outputId": "fb692716-6149-498e-e46f-29d840320575"
      },
      "source": [
        "normalizer(\"I don't like this. I feel like I am depressed.\")"
      ],
      "execution_count": 10,
      "outputs": [
        {
          "output_type": "execute_result",
          "data": {
            "text/plain": [
              "['like', 'feel', 'like', 'depressed']"
            ]
          },
          "metadata": {
            "tags": []
          },
          "execution_count": 10
        }
      ]
    },
    {
      "cell_type": "markdown",
      "metadata": {
        "id": "BV3mDsqu_2yl"
      },
      "source": [
        "**Adding the column of processed tweet to the data**"
      ]
    },
    {
      "cell_type": "code",
      "metadata": {
        "id": "tqgo7q2Dnd-E",
        "colab": {
          "base_uri": "https://localhost:8080/",
          "height": 326
        },
        "outputId": "e4755d13-cbb3-415c-ca2a-53bbed04f46e"
      },
      "source": [
        "pd.set_option('display.max_colwidth', -1) # Setting this so we can see the full content of cells\n",
        "df['normalized_tweet'] = df.Tweet.apply(normalizer)\n",
        "df[['Tweet','normalized_tweet']].head()"
      ],
      "execution_count": 11,
      "outputs": [
        {
          "output_type": "stream",
          "text": [
            "/usr/local/lib/python3.6/dist-packages/ipykernel_launcher.py:1: FutureWarning: Passing a negative integer is deprecated in version 1.0 and will not be supported in future version. Instead, use None to not limit the column width.\n",
            "  \"\"\"Entry point for launching an IPython kernel.\n"
          ],
          "name": "stderr"
        },
        {
          "output_type": "execute_result",
          "data": {
            "text/html": [
              "<div>\n",
              "<style scoped>\n",
              "    .dataframe tbody tr th:only-of-type {\n",
              "        vertical-align: middle;\n",
              "    }\n",
              "\n",
              "    .dataframe tbody tr th {\n",
              "        vertical-align: top;\n",
              "    }\n",
              "\n",
              "    .dataframe thead th {\n",
              "        text-align: right;\n",
              "    }\n",
              "</style>\n",
              "<table border=\"1\" class=\"dataframe\">\n",
              "  <thead>\n",
              "    <tr style=\"text-align: right;\">\n",
              "      <th></th>\n",
              "      <th>Tweet</th>\n",
              "      <th>normalized_tweet</th>\n",
              "    </tr>\n",
              "  </thead>\n",
              "  <tbody>\n",
              "    <tr>\n",
              "      <th>1098030</th>\n",
              "      <td>Hi  it's sunny!</td>\n",
              "      <td>[sunny]</td>\n",
              "    </tr>\n",
              "    <tr>\n",
              "      <th>608602</th>\n",
              "      <td>I feel bad for the mail woman walking around in the rain.  me and percy are couch potatoing it 2day</td>\n",
              "      <td>[bad, mail, woman, walking, around, rain, percy, couch, potatoing, day]</td>\n",
              "    </tr>\n",
              "    <tr>\n",
              "      <th>1576064</th>\n",
              "      <td>@BuzzBuzzLaura hmmm i dunno really haha i guess just telling people to follow me if you think i'm follow worthy  that can help....yayface!</td>\n",
              "      <td>[dunno, really, haha, guess, telling, people, follow, think, follow, worthy, help, yayface]</td>\n",
              "    </tr>\n",
              "    <tr>\n",
              "      <th>1512370</th>\n",
              "      <td>@chrishantha agreed with @chamila  don't forget that twitter account comes at the top of google search results ;)</td>\n",
              "      <td>[chamila, forget, twitter, account, come, top, google, search, result]</td>\n",
              "    </tr>\n",
              "    <tr>\n",
              "      <th>754979</th>\n",
              "      <td>I feel like garbage. I hate being sick. I also hate being stuck working while sick. I'm losing my voice.</td>\n",
              "      <td>[like, garbage, hate, sick, also, hate, stuck, working, sick, losing, voice]</td>\n",
              "    </tr>\n",
              "  </tbody>\n",
              "</table>\n",
              "</div>"
            ],
            "text/plain": [
              "                                                                                                                                              Tweet                                                                             normalized_tweet\n",
              "1098030  Hi  it's sunny!                                                                                                                             [sunny]                                                                                    \n",
              "608602   I feel bad for the mail woman walking around in the rain.  me and percy are couch potatoing it 2day                                         [bad, mail, woman, walking, around, rain, percy, couch, potatoing, day]                    \n",
              "1576064  @BuzzBuzzLaura hmmm i dunno really haha i guess just telling people to follow me if you think i'm follow worthy  that can help....yayface!  [dunno, really, haha, guess, telling, people, follow, think, follow, worthy, help, yayface]\n",
              "1512370  @chrishantha agreed with @chamila  don't forget that twitter account comes at the top of google search results ;)                           [chamila, forget, twitter, account, come, top, google, search, result]                     \n",
              "754979   I feel like garbage. I hate being sick. I also hate being stuck working while sick. I'm losing my voice.                                    [like, garbage, hate, sick, also, hate, stuck, working, sick, losing, voice]               "
            ]
          },
          "metadata": {
            "tags": []
          },
          "execution_count": 11
        }
      ]
    },
    {
      "cell_type": "markdown",
      "metadata": {
        "id": "h7QF1gb0AWSj"
      },
      "source": [
        "**Adding a column of bigrams or trigrams or onegrams as per the data**"
      ]
    },
    {
      "cell_type": "code",
      "metadata": {
        "id": "o3jya_MunuXc",
        "colab": {
          "base_uri": "https://localhost:8080/",
          "height": 204
        },
        "outputId": "09c5b0b7-79aa-4870-c2bb-fbcb9474cf3f"
      },
      "source": [
        "from nltk import ngrams\n",
        "def ngrams(input_list):\n",
        "    onegrams = input_list\n",
        "    bigrams = [' '.join(t) for t in list(zip(input_list, input_list[1:]))]\n",
        "    trigrams = [' '.join(t) for t in list(zip(input_list, input_list[1:], input_list[2:]))]\n",
        "    return bigrams\n",
        "    # return bigrams+trigrams\n",
        "    # return onegrams\n",
        "df['grams'] = df.normalized_tweet.apply(ngrams)\n",
        "df[['grams']].head()"
      ],
      "execution_count": 47,
      "outputs": [
        {
          "output_type": "execute_result",
          "data": {
            "text/html": [
              "<div>\n",
              "<style scoped>\n",
              "    .dataframe tbody tr th:only-of-type {\n",
              "        vertical-align: middle;\n",
              "    }\n",
              "\n",
              "    .dataframe tbody tr th {\n",
              "        vertical-align: top;\n",
              "    }\n",
              "\n",
              "    .dataframe thead th {\n",
              "        text-align: right;\n",
              "    }\n",
              "</style>\n",
              "<table border=\"1\" class=\"dataframe\">\n",
              "  <thead>\n",
              "    <tr style=\"text-align: right;\">\n",
              "      <th></th>\n",
              "      <th>grams</th>\n",
              "    </tr>\n",
              "  </thead>\n",
              "  <tbody>\n",
              "    <tr>\n",
              "      <th>1098030</th>\n",
              "      <td>[]</td>\n",
              "    </tr>\n",
              "    <tr>\n",
              "      <th>608602</th>\n",
              "      <td>[bad mail, mail woman, woman walking, walking around, around rain, rain percy, percy couch, couch potatoing, potatoing day]</td>\n",
              "    </tr>\n",
              "    <tr>\n",
              "      <th>1576064</th>\n",
              "      <td>[dunno really, really haha, haha guess, guess telling, telling people, people follow, follow think, think follow, follow worthy, worthy help, help yayface]</td>\n",
              "    </tr>\n",
              "    <tr>\n",
              "      <th>1512370</th>\n",
              "      <td>[chamila forget, forget twitter, twitter account, account come, come top, top google, google search, search result]</td>\n",
              "    </tr>\n",
              "    <tr>\n",
              "      <th>754979</th>\n",
              "      <td>[like garbage, garbage hate, hate sick, sick also, also hate, hate stuck, stuck working, working sick, sick losing, losing voice]</td>\n",
              "    </tr>\n",
              "  </tbody>\n",
              "</table>\n",
              "</div>"
            ],
            "text/plain": [
              "                                                                                                                                                               grams\n",
              "1098030  []                                                                                                                                                         \n",
              "608602   [bad mail, mail woman, woman walking, walking around, around rain, rain percy, percy couch, couch potatoing, potatoing day]                                \n",
              "1576064  [dunno really, really haha, haha guess, guess telling, telling people, people follow, follow think, think follow, follow worthy, worthy help, help yayface]\n",
              "1512370  [chamila forget, forget twitter, twitter account, account come, come top, top google, google search, search result]                                        \n",
              "754979   [like garbage, garbage hate, hate sick, sick also, also hate, hate stuck, stuck working, working sick, sick losing, losing voice]                          "
            ]
          },
          "metadata": {
            "tags": []
          },
          "execution_count": 47
        }
      ]
    },
    {
      "cell_type": "code",
      "metadata": {
        "id": "goKfOKrEwd2i",
        "colab": {
          "base_uri": "https://localhost:8080/"
        },
        "outputId": "c1950d62-d0a3-4a5c-fcc6-74288f2abdc6"
      },
      "source": [
        "ngrams(normalizer(\"I don't like this. I feel like I am depressed.\"))"
      ],
      "execution_count": 48,
      "outputs": [
        {
          "output_type": "execute_result",
          "data": {
            "text/plain": [
              "['like feel', 'feel like', 'like depressed']"
            ]
          },
          "metadata": {
            "tags": []
          },
          "execution_count": 48
        }
      ]
    },
    {
      "cell_type": "markdown",
      "metadata": {
        "id": "BnTFJ6f_Ao3w"
      },
      "source": [
        "**Checking which words appear most often in both the classes**"
      ]
    },
    {
      "cell_type": "code",
      "metadata": {
        "id": "GblwFYMPn93k"
      },
      "source": [
        "import collections\n",
        "def count_words(input):\n",
        "    cnt = collections.Counter()\n",
        "    for row in input:\n",
        "        for word in row:\n",
        "            cnt[word] += 1\n",
        "    return cnt"
      ],
      "execution_count": 49,
      "outputs": []
    },
    {
      "cell_type": "code",
      "metadata": {
        "id": "_z_YOpJuoA3g",
        "colab": {
          "base_uri": "https://localhost:8080/"
        },
        "outputId": "129d6000-2672-46e6-ea7a-8e176f0e2ffd"
      },
      "source": [
        "df[(df.Target == 0)][['grams']].apply(count_words)[0].most_common(20)"
      ],
      "execution_count": 50,
      "outputs": [
        {
          "output_type": "execute_result",
          "data": {
            "text/plain": [
              "[('gon na', 124),\n",
              " ('wan na', 102),\n",
              " ('last night', 76),\n",
              " ('feel like', 60),\n",
              " ('na go', 48),\n",
              " ('want go', 48),\n",
              " ('got ta', 42),\n",
              " ('look like', 40),\n",
              " ('go back', 35),\n",
              " ('http bit', 35),\n",
              " ('bit ly', 35),\n",
              " ('wish could', 34),\n",
              " ('twitpic com', 32),\n",
              " ('com p', 32),\n",
              " ('plurk com', 31),\n",
              " ('http plurk', 30),\n",
              " ('go work', 30),\n",
              " ('come back', 27),\n",
              " ('go home', 27),\n",
              " ('oh well', 26)]"
            ]
          },
          "metadata": {
            "tags": []
          },
          "execution_count": 50
        }
      ]
    },
    {
      "cell_type": "code",
      "metadata": {
        "id": "8AIfyAT2wsZr",
        "colab": {
          "base_uri": "https://localhost:8080/"
        },
        "outputId": "8d63791f-9dfe-4533-8c39-acfb8368fb31"
      },
      "source": [
        "df[(df.Target == 4)][['grams']].apply(count_words)[0].most_common(20)"
      ],
      "execution_count": 51,
      "outputs": [
        {
          "output_type": "execute_result",
          "data": {
            "text/plain": [
              "[('gon na', 89),\n",
              " ('twitpic com', 81),\n",
              " ('bit ly', 67),\n",
              " ('http bit', 62),\n",
              " ('tinyurl com', 51),\n",
              " ('last night', 48),\n",
              " ('http tinyurl', 48),\n",
              " ('wan na', 45),\n",
              " ('got ta', 38),\n",
              " ('com p', 30),\n",
              " ('look like', 28),\n",
              " ('let know', 28),\n",
              " ('http plurk', 27),\n",
              " ('plurk com', 27),\n",
              " ('good day', 27),\n",
              " ('great day', 26),\n",
              " ('http www', 26),\n",
              " ('http twitpic', 25),\n",
              " ('good night', 24),\n",
              " ('looking forward', 24)]"
            ]
          },
          "metadata": {
            "tags": []
          },
          "execution_count": 51
        }
      ]
    },
    {
      "cell_type": "code",
      "metadata": {
        "id": "bTeLUg9-cHNL",
        "colab": {
          "base_uri": "https://localhost:8080/"
        },
        "outputId": "9d58ea17-8946-4852-a317-6a89bc7669c9"
      },
      "source": [
        "df.Target.value_counts() "
      ],
      "execution_count": 52,
      "outputs": [
        {
          "output_type": "execute_result",
          "data": {
            "text/plain": [
              "0    8020\n",
              "4    7980\n",
              "Name: Target, dtype: int64"
            ]
          },
          "metadata": {
            "tags": []
          },
          "execution_count": 52
        }
      ]
    },
    {
      "cell_type": "markdown",
      "metadata": {
        "id": "gPFfZZ5LBAub"
      },
      "source": [
        "## Model Training"
      ]
    },
    {
      "cell_type": "code",
      "metadata": {
        "id": "Ll1PrUuZcJMf"
      },
      "source": [
        "import numpy as np\n",
        "from scipy.sparse import hstack\n",
        "from sklearn.feature_extraction.text import CountVectorizer\n",
        "count_vectorizer = CountVectorizer(ngram_range=(1,2))"
      ],
      "execution_count": 53,
      "outputs": []
    },
    {
      "cell_type": "markdown",
      "metadata": {
        "id": "51BFcdS3FBfJ"
      },
      "source": [
        "**Creating vectorized data**"
      ]
    },
    {
      "cell_type": "code",
      "metadata": {
        "id": "GTDo3667cLCX",
        "colab": {
          "base_uri": "https://localhost:8080/"
        },
        "outputId": "5c6617bb-f29b-4f70-a525-e2d59e899882"
      },
      "source": [
        "vectorized_data = count_vectorizer.fit_transform(df.Tweet)\n",
        "indexed_data = hstack((np.array(range(0,vectorized_data.shape[0]))[:,None], vectorized_data))\n",
        "indexed_data"
      ],
      "execution_count": 54,
      "outputs": [
        {
          "output_type": "execute_result",
          "data": {
            "text/plain": [
              "<16000x134038 sparse matrix of type '<class 'numpy.longlong'>'\n",
              "\twith 389508 stored elements in COOrdinate format>"
            ]
          },
          "metadata": {
            "tags": []
          },
          "execution_count": 54
        }
      ]
    },
    {
      "cell_type": "markdown",
      "metadata": {
        "id": "MZxy-oPQFFXB"
      },
      "source": [
        "**Dividing data into training set and testing set**"
      ]
    },
    {
      "cell_type": "code",
      "metadata": {
        "id": "8eCV8mLAcsHO"
      },
      "source": [
        "targets = df.Target\n",
        "from sklearn.model_selection import train_test_split\n",
        "data_train, data_test, targets_train, targets_test = train_test_split(indexed_data, targets, test_size=0.4, random_state=0)\n",
        "data_train_index = data_train[:,0]\n",
        "data_train = data_train[:,1:]\n",
        "data_test_index = data_test[:,0]\n",
        "data_test = data_test[:,1:]"
      ],
      "execution_count": 55,
      "outputs": []
    },
    {
      "cell_type": "markdown",
      "metadata": {
        "id": "3tGP9553FLTG"
      },
      "source": [
        "**Training model on OneVsRestClassifier**"
      ]
    },
    {
      "cell_type": "code",
      "metadata": {
        "id": "DJvrned7cyu7"
      },
      "source": [
        "from sklearn import svm\n",
        "from sklearn.multiclass import OneVsRestClassifier\n",
        "clf = OneVsRestClassifier(svm.SVC(gamma=0.01, C=100., probability=True, class_weight='balanced', kernel='linear'))\n",
        "clf_output = clf.fit(data_train, targets_train)\n"
      ],
      "execution_count": 56,
      "outputs": []
    },
    {
      "cell_type": "code",
      "metadata": {
        "id": "Z0QkCrG0c0vb",
        "colab": {
          "base_uri": "https://localhost:8080/"
        },
        "outputId": "3c2bee0e-a1c9-4478-9150-c0dbf04b68d5"
      },
      "source": [
        "clf.score(data_test, targets_test)"
      ],
      "execution_count": 57,
      "outputs": [
        {
          "output_type": "execute_result",
          "data": {
            "text/plain": [
              "0.72859375"
            ]
          },
          "metadata": {
            "tags": []
          },
          "execution_count": 57
        }
      ]
    },
    {
      "cell_type": "markdown",
      "metadata": {
        "id": "nhC5_QwkFTae"
      },
      "source": [
        "**Predicting results**"
      ]
    },
    {
      "cell_type": "code",
      "metadata": {
        "id": "UuHA1_IMiFq0"
      },
      "source": [
        "targets_predicted = clf.predict(data_test)"
      ],
      "execution_count": 58,
      "outputs": []
    },
    {
      "cell_type": "code",
      "metadata": {
        "id": "-rHY1OL8iZym"
      },
      "source": [
        "import seaborn as sns\n",
        "def plot_confusion_matrix(cf_matrix):\n",
        "  group_names = ['True Neg','False Pos','False Neg','True Pos']\n",
        "  group_counts = [\"{0:0.0f}\".format(value) for value in\n",
        "                  cf_matrix.flatten()]\n",
        "  group_percentages = [\"{0:.2%}\".format(value) for value in\n",
        "                      cf_matrix.flatten()/np.sum(cf_matrix)]\n",
        "  labels = [f\"{v1}\\n{v2}\\n{v3}\" for v1, v2, v3 in\n",
        "            zip(group_names,group_counts,group_percentages)]\n",
        "  labels = np.asarray(labels).reshape(2,2)\n",
        "  sns.heatmap(cf_matrix, annot=labels, fmt='', cmap='Blues')"
      ],
      "execution_count": 59,
      "outputs": []
    },
    {
      "cell_type": "markdown",
      "metadata": {
        "id": "HpVmXRfIFYDU"
      },
      "source": [
        "## Analyzing Results"
      ]
    },
    {
      "cell_type": "markdown",
      "metadata": {
        "id": "Par4xtabFfVu"
      },
      "source": [
        "**Pinting Confusion Matrix**"
      ]
    },
    {
      "cell_type": "code",
      "metadata": {
        "id": "8K7J0caIrR5p",
        "colab": {
          "base_uri": "https://localhost:8080/",
          "height": 265
        },
        "outputId": "9c7d31d3-c87a-488f-d3de-1c10c479485b"
      },
      "source": [
        "from sklearn.metrics import classification_report, confusion_matrix\n",
        "\n",
        "cf_matrix = confusion_matrix(targets_test, targets_predicted)\n",
        "plot_confusion_matrix(cf_matrix)"
      ],
      "execution_count": 60,
      "outputs": [
        {
          "output_type": "display_data",
          "data": {
            "image/png": "[encoded data removed]",
            "text/plain": [
              "<Figure size 432x288 with 2 Axes>"
            ]
          },
          "metadata": {
            "tags": [],
            "needs_background": "light"
          }
        }
      ]
    },
    {
      "cell_type": "markdown",
      "metadata": {
        "id": "fuiDFoHnFkJY"
      },
      "source": [
        "**Printing Classification Report**"
      ]
    },
    {
      "cell_type": "code",
      "metadata": {
        "id": "yVbVWqgDtSCN",
        "colab": {
          "base_uri": "https://localhost:8080/"
        },
        "outputId": "2ff4554e-a7b1-464e-91f1-3e17c481a1c9"
      },
      "source": [
        "target_names = ['Negative','Positive']\n",
        "print(classification_report(targets_test, targets_predicted, target_names=target_names))"
      ],
      "execution_count": 61,
      "outputs": [
        {
          "output_type": "stream",
          "text": [
            "              precision    recall  f1-score   support\n",
            "\n",
            "    Negative       0.75      0.71      0.73      3282\n",
            "    Positive       0.71      0.75      0.73      3118\n",
            "\n",
            "    accuracy                           0.73      6400\n",
            "   macro avg       0.73      0.73      0.73      6400\n",
            "weighted avg       0.73      0.73      0.73      6400\n",
            "\n"
          ],
          "name": "stdout"
        }
      ]
    },
    {
      "cell_type": "code",
      "metadata": {
        "id": "8rXaL5G6tmdi"
      },
      "source": [
        ""
      ],
      "execution_count": null,
      "outputs": []
    }
  ]
}